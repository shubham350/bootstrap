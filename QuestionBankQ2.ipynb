{
 "cells": [
  {
   "cell_type": "code",
   "execution_count": 2,
   "metadata": {},
   "outputs": [],
   "source": [
    "import numpy as np\n",
    "import matplotlib.pyplot as plt\n",
    "import sklearn as sklearn\n",
    "from sklearn.linear_model import LinearRegression\n",
    "from sklearn.model_selection import LeaveOneOut\n",
    "from sklearn.metrics import mean_squared_error\n",
    "from sklearn.preprocessing import PolynomialFeatures\n",
    "from sklearn.pipeline import make_pipeline"
   ]
  },
  {
   "cell_type": "code",
   "execution_count": 3,
   "metadata": {},
   "outputs": [
    {
     "data": {
      "image/png": "[encoded data removed]",
      "text/plain": [
       "<Figure size 432x288 with 1 Axes>"
      ]
     },
     "metadata": {
      "needs_background": "light"
     },
     "output_type": "display_data"
    }
   ],
   "source": [
    "np.random.seed(90)\n",
    "x = np.random.normal(0,1,100)\n",
    "y = (x-2)*x**2 + np.random.normal(0,1,100)\n",
    "plt.xlabel('Predictor',fontsize=16)\n",
    "plt.ylabel('Target',fontsize=16)\n",
    "plt.scatter(x,y)\n",
    "x = x.reshape((-1,1))\n",
    "y = y.reshape((-1,1))"
   ]
  },
  {
   "cell_type": "code",
   "execution_count": 4,
   "metadata": {},
   "outputs": [
    {
     "data": {
      "text/plain": [
       "16.26467776664384"
      ]
     },
     "execution_count": 4,
     "metadata": {},
     "output_type": "execute_result"
    }
   ],
   "source": [
    "lin_reg = LinearRegression()\n",
    "mse = mean_squared_error\n",
    "\n",
    "loo = LeaveOneOut()\n",
    "loo.get_n_splits(x)\n",
    "loo.split(x)\n",
    "\n",
    "error = []\n",
    "\n",
    "for train_index, test_index in loo.split(x):\n",
    "    #print('train:',train_index,'test:',test_index)\n",
    "    x_train, x_test = x[train_index], x[test_index]\n",
    "    y_train, y_test = y[train_index], y[test_index]\n",
    "    lin_reg.fit(x_train, y_train)\n",
    "    y_predict  = lin_reg.predict(y[test_index])\n",
    "    error.append(mse(y_predict,y[test_index]))\n",
    "    \n",
    "error = np.array(error)\n",
    "error = error.reshape(100,)\n",
    "error1 = error.sum()\n",
    "error1/100"
   ]
  },
  {
   "cell_type": "code",
   "execution_count": 5,
   "metadata": {},
   "outputs": [
    {
     "data": {
      "text/plain": [
       "6070.292731689111"
      ]
     },
     "execution_count": 5,
     "metadata": {},
     "output_type": "execute_result"
    }
   ],
   "source": [
    "polyreg = make_pipeline(PolynomialFeatures(2),LinearRegression())\n",
    "mse = mean_squared_error\n",
    "\n",
    "loo = LeaveOneOut()\n",
    "loo.get_n_splits(x)\n",
    "loo.split(x)\n",
    "\n",
    "error = list()\n",
    "\n",
    "for train_index, test_index in loo.split(x):\n",
    "    #print('train:',train_index,'test:',test_index)\n",
    "    x_train, x_test = x[train_index], x[test_index]\n",
    "    y_train, y_test = y[train_index], y[test_index]\n",
    "    polyreg.fit(x_train, y_train)\n",
    "    y_predict = polyreg.predict(y[test_index])\n",
    "    error.append(mse(y_predict,y[test_index]))\n",
    "    \n",
    "error = np.array(error)\n",
    "error = error.reshape(100,)\n",
    "error2 = error.sum()\n",
    "error2/100"
   ]
  },
  {
   "cell_type": "code",
   "execution_count": 6,
   "metadata": {},
   "outputs": [
    {
     "data": {
      "text/plain": [
       "601593.0859268144"
      ]
     },
     "execution_count": 6,
     "metadata": {},
     "output_type": "execute_result"
    }
   ],
   "source": [
    "polyreg = make_pipeline(PolynomialFeatures(3),LinearRegression())\n",
    "mse = mean_squared_error\n",
    "\n",
    "loo = LeaveOneOut()\n",
    "loo.get_n_splits(x)\n",
    "loo.split(x)\n",
    "\n",
    "error1 = list()\n",
    "\n",
    "for train_index, test_index in loo.split(x):\n",
    "    #print('train:',train_index,'test:',test_index)\n",
    "    x_train, x_test = x[train_index], x[test_index]\n",
    "    y_train, y_test = y[train_index], y[test_index]\n",
    "    polyreg.fit(x_train, y_train)\n",
    "    y_predict = polyreg.predict(y[test_index])\n",
    "    error1.append(mse(y_predict,y[test_index]))\n",
    "    \n",
    "error1 = np.array(error1)\n",
    "error1= error1.reshape(100,)\n",
    "error3 = error1.sum()\n",
    "error3/100"
   ]
  },
  {
   "cell_type": "code",
   "execution_count": 7,
   "metadata": {},
   "outputs": [
    {
     "data": {
      "text/plain": [
       "1302113.6364140154"
      ]
     },
     "execution_count": 7,
     "metadata": {},
     "output_type": "execute_result"
    }
   ],
   "source": [
    "polyreg = make_pipeline(PolynomialFeatures(4),LinearRegression())\n",
    "mse = mean_squared_error\n",
    "\n",
    "loo = LeaveOneOut()\n",
    "loo.get_n_splits(x)\n",
    "loo.split(x)\n",
    "\n",
    "error1 = list()\n",
    "\n",
    "for train_index, test_index in loo.split(x):\n",
    "    #print('train:',train_index,'test:',test_index)\n",
    "    x_train, x_test = x[train_index], x[test_index]\n",
    "    y_train, y_test = y[train_index], y[test_index]\n",
    "    polyreg.fit(x_train, y_train)\n",
    "    y_predict = polyreg.predict(y[test_index])\n",
    "    error1.append(mse(y_predict,y[test_index]))\n",
    "    \n",
    "error1 = np.array(error1)\n",
    "error1= error1.reshape(100,)\n",
    "error3 = error1.sum()\n",
    "error3/100"
   ]
  }
 ],
 "metadata": {
  "kernelspec": {
   "display_name": "Python 3",
   "language": "python",
   "name": "python3"
  },
  "language_info": {
   "codemirror_mode": {
    "name": "ipython",
    "version": 3
   },
   "file_extension": ".py",
   "mimetype": "text/x-python",
   "name": "python",
   "nbconvert_exporter": "python",
   "pygments_lexer": "ipython3",
   "version": "3.9.5"
  }
 },
 "nbformat": 4,
 "nbformat_minor": 4
}
