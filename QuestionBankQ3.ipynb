{
 "cells": [
  {
   "cell_type": "markdown",
   "metadata": {},
   "source": [
    "Q.3 Consider the Boston data set, from the MASS library"
   ]
  },
  {
   "cell_type": "code",
   "execution_count": 32,
   "metadata": {},
   "outputs": [],
   "source": [
    "import pandas as pd\n",
    "from sklearn.datasets import load_boston\n",
    "boston_dataset = load_boston()\n",
    "boston = pd.DataFrame(boston_dataset.data, columns=boston_dataset.feature_names)\n",
    "#boston.head()"
   ]
  },
  {
   "cell_type": "markdown",
   "metadata": {},
   "source": [
    "a) Based on this data set, provide an estimate for the population mean of medv. Call\n",
    "this estimate ˆ µ"
   ]
  },
  {
   "cell_type": "code",
   "execution_count": 33,
   "metadata": {},
   "outputs": [
    {
     "name": "stdout",
     "output_type": "stream",
     "text": [
      "22.532806324110677\n"
     ]
    }
   ],
   "source": [
    "import numpy as np\n",
    "boston['MEDV'] = boston_dataset.target\n",
    "mu = boston['MEDV'].mean()\n",
    "print(mu)"
   ]
  },
  {
   "cell_type": "markdown",
   "metadata": {},
   "source": [
    "b) Provide an estimate of the standard error of ˆ µ by the standard formula"
   ]
  },
  {
   "cell_type": "code",
   "execution_count": 34,
   "metadata": {},
   "outputs": [
    {
     "data": {
      "text/plain": [
       "0.40886114749753505"
      ]
     },
     "execution_count": 34,
     "metadata": {},
     "output_type": "execute_result"
    }
   ],
   "source": [
    "rn = np.sqrt(boston['MEDV'].size)\n",
    "sem = (boston['MEDV'].std())\n",
    "sem = sem/rn\n",
    "sem"
   ]
  },
  {
   "cell_type": "markdown",
   "metadata": {},
   "source": [
    "c) Now estimate the standard error of ˆ µ using the bootstrap. How does this compare\n",
    "to your answer from (b)"
   ]
  },
  {
   "cell_type": "code",
   "execution_count": 35,
   "metadata": {},
   "outputs": [
    {
     "data": {
      "text/plain": [
       "8.887469223012813"
      ]
     },
     "execution_count": 35,
     "metadata": {},
     "output_type": "execute_result"
    }
   ],
   "source": [
    "B = 1000\n",
    "sample_means = []\n",
    "for i in range(B):\n",
    "    s = np.random.choice(boston['MEDV'])\n",
    "    sample_means.append(s.mean())\n",
    "    \n",
    "#print(sample_means)\n",
    "sem1 = np.std(sample_means)\n",
    "sem1"
   ]
  },
  {
   "cell_type": "markdown",
   "metadata": {},
   "source": [
    "d) Based on your bootstrap estimate from (c), provide a 95% conﬁdence interval\n",
    "for the mean of medv using normal approximation as well as by using percentiles.\n",
    "Compare these two intervals with the standard conﬁdence interval based on asymp\n",
    "totic normal approximation"
   ]
  },
  {
   "cell_type": "code",
   "execution_count": 36,
   "metadata": {},
   "outputs": [
    {
     "name": "stdout",
     "output_type": "stream",
     "text": [
      "confidence interval using normal distribution is: 21.73143847501551 , 23.334174173205845\n",
      "confidence interval using percentiles is: 8.3 , 50.0\n"
     ]
    }
   ],
   "source": [
    "print('confidence interval using normal distribution is:', mu - 1.96*sem,',',mu + 1.96*sem  )\n",
    "print('confidence interval using percentiles is:',np.percentile(sample_means,2.5),',',np.percentile(sample_means,97.5))"
   ]
  },
  {
   "cell_type": "markdown",
   "metadata": {},
   "source": [
    "e) Based on this data set, provide an estimate, ˆ M, for the median value of medv in\n",
    "the population"
   ]
  },
  {
   "cell_type": "code",
   "execution_count": 37,
   "metadata": {},
   "outputs": [
    {
     "data": {
      "text/plain": [
       "21.2"
      ]
     },
     "execution_count": 37,
     "metadata": {},
     "output_type": "execute_result"
    }
   ],
   "source": [
    "median = np.median(boston['MEDV'])\n",
    "median"
   ]
  },
  {
   "cell_type": "markdown",
   "metadata": {},
   "source": [
    "f) We now would like to estimate the standard error of ˆ M. Unfortunately, there is no\n",
    "simple formula for computing the standard error of the median. Instead, estimate\n",
    "the standard error of the median using the bootstrap"
   ]
  },
  {
   "cell_type": "code",
   "execution_count": 38,
   "metadata": {},
   "outputs": [
    {
     "data": {
      "text/plain": [
       "9.192860438405448"
      ]
     },
     "execution_count": 38,
     "metadata": {},
     "output_type": "execute_result"
    }
   ],
   "source": [
    "B = 1000\n",
    "sample_medians = []\n",
    "for i in range(B):\n",
    "    s = np.random.choice(boston['MEDV'])\n",
    "    sample_medians.append(np.median(s))\n",
    "    \n",
    "semedian = np.std(sample_medians)\n",
    "semedian"
   ]
  },
  {
   "cell_type": "markdown",
   "metadata": {},
   "source": [
    "g) Based on this data set, provide an estimate for the tenth percentile (TP) of medv in Boston suburbs. Call this quantity ˆ TP."
   ]
  },
  {
   "cell_type": "code",
   "execution_count": 39,
   "metadata": {},
   "outputs": [],
   "source": [
    "tp_hat = np.percentile(boston['MEDV'],10)"
   ]
  },
  {
   "cell_type": "markdown",
   "metadata": {},
   "source": [
    "h) Use the bootstrap to estimate the conﬁdence interval for TP"
   ]
  },
  {
   "cell_type": "code",
   "execution_count": 40,
   "metadata": {},
   "outputs": [
    {
     "name": "stdout",
     "output_type": "stream",
     "text": [
      "8.3\n",
      "50.0\n"
     ]
    }
   ],
   "source": [
    "B = 1000\n",
    "sample_tp = []\n",
    "for i in range(B):\n",
    "    s = np.random.choice(boston['MEDV'])\n",
    "    sample_tp.append(np.percentile(s,10))\n",
    "    \n",
    "print(np.percentile(sample_tp,2.5))\n",
    "print(np.percentile(sample_tp,97.5))"
   ]
  },
  {
   "cell_type": "code",
   "execution_count": null,
   "metadata": {},
   "outputs": [],
   "source": []
  }
 ],
 "metadata": {
  "kernelspec": {
   "display_name": "Python 3",
   "language": "python",
   "name": "python3"
  },
  "language_info": {
   "codemirror_mode": {
    "name": "ipython",
    "version": 3
   },
   "file_extension": ".py",
   "mimetype": "text/x-python",
   "name": "python",
   "nbconvert_exporter": "python",
   "pygments_lexer": "ipython3",
   "version": "3.9.5"
  }
 },
 "nbformat": 4,
 "nbformat_minor": 4
}
