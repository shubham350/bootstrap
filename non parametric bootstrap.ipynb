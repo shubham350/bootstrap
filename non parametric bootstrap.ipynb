{
 "cells": [
  {
   "cell_type": "code",
   "execution_count": 10,
   "metadata": {},
   "outputs": [
    {
     "name": "stdout",
     "output_type": "stream",
     "text": [
      "0.8520658498690272\n",
      "[0.22395481 0.01458173 1.19722293 0.23762732 1.11579302 0.01482513\n",
      " 0.02314754 0.2005821  3.61030958 1.33631154 0.82810999 1.261403\n",
      " 1.83570008 0.20694119 0.44285302 0.20614535 1.45207407 0.16305819\n",
      " 2.28006342 2.5146652  0.34713854 0.17595255 0.57441887 0.54613193\n",
      " 4.54677729 1.7098582  0.94356112 1.38109106 1.04615851 0.2312185\n",
      " 6.59626126 0.93419835 0.13911772 0.06541213 0.43223311 0.27618566\n",
      " 1.33016788 0.06333431 1.06626453 0.56780399 0.21746095 0.84784905\n",
      " 2.16947817 2.28034718 0.98190855 0.50652661 0.85628265 0.11856508\n",
      " 0.88815835 6.79669726 1.992458   1.12757155 0.50483858 1.14308403\n",
      " 0.29200861 3.3834223  1.61674447 0.28359232 0.12491611 0.0532731\n",
      " 0.09834762 0.68403966 0.99883377 0.17047179 2.18098643 0.0471908\n",
      " 1.59278066 2.84701289 0.0652501  0.78071611 1.3892578  0.29973241\n",
      " 0.62839239 3.72232082 0.64768999 2.3551725  1.82818017 1.41498205\n",
      " 1.34403368 1.17128481 0.60988695 0.20509734 2.40771003 2.00793252\n",
      " 0.30047683 1.67225872 0.47847221 1.24067024 0.48952485 4.11887403\n",
      " 0.44852441 0.56979854 1.95226799 0.67814577 1.67157206 3.70505013\n",
      " 9.23622033 0.21209299 0.3687131  2.245062  ]\n"
     ]
    },
    {
     "data": {
      "text/html": [
       "<div>\n",
       "<style scoped>\n",
       "    .dataframe tbody tr th:only-of-type {\n",
       "        vertical-align: middle;\n",
       "    }\n",
       "\n",
       "    .dataframe tbody tr th {\n",
       "        vertical-align: top;\n",
       "    }\n",
       "\n",
       "    .dataframe thead th {\n",
       "        text-align: right;\n",
       "    }\n",
       "</style>\n",
       "<table border=\"1\" class=\"dataframe\">\n",
       "  <thead>\n",
       "    <tr style=\"text-align: right;\">\n",
       "      <th></th>\n",
       "      <th>0</th>\n",
       "    </tr>\n",
       "  </thead>\n",
       "  <tbody>\n",
       "    <tr>\n",
       "      <th>count</th>\n",
       "      <td>100.000000</td>\n",
       "    </tr>\n",
       "    <tr>\n",
       "      <th>mean</th>\n",
       "      <td>0.852066</td>\n",
       "    </tr>\n",
       "    <tr>\n",
       "      <th>std</th>\n",
       "      <td>0.004238</td>\n",
       "    </tr>\n",
       "    <tr>\n",
       "      <th>min</th>\n",
       "      <td>0.847849</td>\n",
       "    </tr>\n",
       "    <tr>\n",
       "      <th>25%</th>\n",
       "      <td>0.847849</td>\n",
       "    </tr>\n",
       "    <tr>\n",
       "      <th>50%</th>\n",
       "      <td>0.852066</td>\n",
       "    </tr>\n",
       "    <tr>\n",
       "      <th>75%</th>\n",
       "      <td>0.856283</td>\n",
       "    </tr>\n",
       "    <tr>\n",
       "      <th>max</th>\n",
       "      <td>0.856283</td>\n",
       "    </tr>\n",
       "  </tbody>\n",
       "</table>\n",
       "</div>"
      ],
      "text/plain": [
       "                0\n",
       "count  100.000000\n",
       "mean     0.852066\n",
       "std      0.004238\n",
       "min      0.847849\n",
       "25%      0.847849\n",
       "50%      0.852066\n",
       "75%      0.856283\n",
       "max      0.856283"
      ]
     },
     "execution_count": 10,
     "metadata": {},
     "output_type": "execute_result"
    }
   ],
   "source": [
    "#https://docs.scipy.org/doc/numpy-1.15.0/reference/routines.random.html\n",
    "#non-parametric bootstrap\n",
    "    \n",
    "n = 100\n",
    "import pandas as pd\n",
    "import numpy as np\n",
    "from numpy import random, median\n",
    "X = random.exponential(1,n)\n",
    "print(median(X))\n",
    "print(X)\n",
    "\n",
    "med = []\n",
    "for i in range(0,100):\n",
    "    dum = X\n",
    "    med.append(median(np.delete(dum,i)))\n",
    "    dum = X\n",
    "    \n",
    "df = pd.DataFrame(med)\n",
    "df.describe()"
   ]
  },
  {
   "cell_type": "code",
   "execution_count": 13,
   "metadata": {},
   "outputs": [
    {
     "name": "stdout",
     "output_type": "stream",
     "text": [
      "0.8478490450487758\n",
      "0.8562826546892786\n"
     ]
    }
   ],
   "source": [
    "print(np.percentile(med,2.5))\n",
    "print(np.percentile(med,97.5))"
   ]
  },
  {
   "cell_type": "code",
   "execution_count": 19,
   "metadata": {},
   "outputs": [
    {
     "name": "stdout",
     "output_type": "stream",
     "text": [
      "64\n",
      "[0.5602754007984292, 0.8281099908699958, 0.8478490450487758, 1.0224961390254612, 0.9627348320907847, 0.8722205035336408, 0.6840396623278407, 0.9988337725540893, 0.9341983480241977, 1.0662645290641342]\n"
     ]
    },
    {
     "data": {
      "text/plain": [
       "(array([1., 0., 1., 0., 0., 2., 1., 2., 1., 2.]),\n",
       " array([0.5602754 , 0.61087431, 0.66147323, 0.71207214, 0.76267105,\n",
       "        0.81326996, 0.86386888, 0.91446779, 0.9650667 , 1.01566562,\n",
       "        1.06626453]),\n",
       " <a list of 10 Patch objects>)"
      ]
     },
     "execution_count": 19,
     "metadata": {},
     "output_type": "execute_result"
    },
    {
     "data": {
      "image/png": "[encoded data removed]",
      "text/plain": [
       "<Figure size 432x288 with 1 Axes>"
      ]
     },
     "metadata": {
      "needs_background": "light"
     },
     "output_type": "display_data"
    }
   ],
   "source": [
    "from matplotlib import pyplot as plt \n",
    "B = 10\n",
    "medstar = []\n",
    "for i in range(0,B):\n",
    "    s = random.choice(X,size=n, replace =True)\n",
    "    medstar.append(median(s))\n",
    "print(len(np.unique(s)))\n",
    "\n",
    "print(medstar)\n",
    "plt.hist(medstar)"
   ]
  }
 ],
 "metadata": {
  "kernelspec": {
   "display_name": "Python 3",
   "language": "python",
   "name": "python3"
  },
  "language_info": {
   "codemirror_mode": {
    "name": "ipython",
    "version": 3
   },
   "file_extension": ".py",
   "mimetype": "text/x-python",
   "name": "python",
   "nbconvert_exporter": "python",
   "pygments_lexer": "ipython3",
   "version": "3.6.7"
  }
 },
 "nbformat": 4,
 "nbformat_minor": 4
}
